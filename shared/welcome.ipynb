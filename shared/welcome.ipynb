{
  "cells": [
    {
      "cell_type": "markdown",
      "id": "welcome-title",
      "metadata": {},
      "source": [
        "# Welcome to the Diploma Thesis Seminar II R & SQL Block Course\n",
        "\n",
        "## Course Overview\n",
        "\n",
        "Welcome to the two block-lesson course, where we will learn the basics of **data preprocessing**, **cleaning**, and an **introduction to SQL** using R. This notebook will give you a quick overview of:\n",
        "\n",
        "- Course goals\n",
        "- Topics covered & format\n",
        "- Technical setup and resources\n",
        "- How to get help\n",
        "- Next steps\n",
        "\n",
        "I believe these materials will greatly help you when dealing with real-life data for your diploma thesis.\n"
      ]
    },
    {
      "cell_type": "markdown",
      "id": "overview-scope",
      "metadata": {},
      "source": [
        "## 1. Learning Goals\n",
        "\n",
        "- Learn how to **set up** and **navigate** R (and RStudio/Jupyter) for data analysis.\n",
        "- Understand **data importing/exporting**, cleaning techniques, and best practices in **data preprocessing**.\n",
        "- Explore **basic Exploratory Data Analysis (EDA)** and simple visualization to understand your data.\n",
        "- Get a **practical introduction to SQL** in R, including how to query datasets and join tables.\n",
        "- Gain confidence applying these skills to real-world data for your **journalism projects** or **final thesis**.\n"
      ]
    },
    {
      "cell_type": "markdown",
      "id": "format-topics",
      "metadata": {},
      "source": [
        "## 2. Course Format\n",
        "\n",
        "We have **8 hours** of instruction, split into **two 4-hour blocks**. Each block is hands-on, so come prepared to **code along** and **experiment**. Here’s a high-level look at what we’ll do:\n",
        "\n",
        "### Block 1 (4 hours)\n",
        "\n",
        "1. **Environment Setup & Basic R Recap**\n",
        "   - Installing/loading packages, checking your R/Jupyter environment, refreshing R syntax.\n",
        "2. **Data Import & Export**\n",
        "   - Using built-in functions and `tidyverse` tools to read/write CSV, Excel, etc.\n",
        "3. **Data Cleaning & Preprocessing**\n",
        "   - Handling missing values, renaming columns, converting data types.\n",
        "4. **Basic EDA**\n",
        "   - Summaries, quick plots (histograms, bar plots, boxplots) to understand data quality.\n",
        "\n",
        "### Block 2 (4 hours)\n",
        "\n",
        "1. **Data Reshaping & Combining**\n",
        "   - Using `dplyr` joins, pivoting data with `tidyr`.\n",
        "2. **Introduction to SQL in R**\n",
        "   - Working with `sqldf` or `DBI` + `RSQLite`, running basic queries (`SELECT`, `JOIN`, etc.).\n",
        "3. **Real-World Workflow & Case Study**\n",
        "   - End-to-end demonstration (import → clean → transform → query → visualize).\n",
        "4. **Wrap-up & Thesis Guidance**\n",
        "   - Best practices, tips for data documentation, referencing code, further resources.\n"
      ]
    },
    {
      "cell_type": "markdown",
      "id": "requirements",
      "metadata": {},
      "source": [
        "## 3. Requirements & Setup\n",
        "\n",
        "- **Software**: We will use [Binder](https://mybinder.org) to help you get coding right away without the need to set up a local environment. If you want set up all of the required software locally anyway, you’ll need a working installation of **R** (4.0 or above recommended) and **Jupyter** with an **R kernel**, or **RStudio** if you prefer.\n",
        "- **Packages**: We’ll use libraries such as `tidyverse`, `readxl`, `DBI`, `RSQLite`, and `sqldf`. We’ll install them together as part of the course if needed, but in Binder, they will be pre-installed for you.\n",
        "- **Hardware**: A laptop with sufficient memory (4GB+). If you have large datasets in mind, more memory is better.\n",
        "- **Data**: We’ll provide example datasets. You’re also encouraged to bring data relevant to your thesis or journalistic projects.\n"
      ]
    },
    {
      "cell_type": "markdown",
      "id": "help-contact",
      "metadata": {},
      "source": [
        "## 4. Getting Help\n",
        "\n",
        "- **During class**: Don’t hesitate to **ask questions**. We’ll troubleshoot code and environment issues as we go.\n",
        "- **Online resources**:\n",
        "  - R for Data Science (Hadley Wickham & Garrett Grolemund)\n",
        "  - RStudio cheat sheets (https://rstudio.com/resources/cheatsheets/)\n",
        "  - Online tutorials for SQL basics (w3schools, etc.)\n"
      ]
    },
    {
      "cell_type": "markdown",
      "id": "expectations",
      "metadata": {},
      "source": [
        "## 5. Course Policies & Expectations\n",
        "\n",
        "- **Attendance**: Because this is a hands-on course, it’s highly recommended you attend both sessions live.\n",
        "- **Participation**: We’ll do in-class exercises. Bring your laptop, follow the demonstrations, and attempt the practice tasks.\n",
        "- **Collaboration**: You’re encouraged to help each other and discuss coding solutions. However, for individual assignments (if any), submit your own work.\n",
        "- **Respect**: We value an inclusive environment. Be respectful of peers’ questions and coding experience levels.\n"
      ]
    },
    {
      "cell_type": "markdown",
      "id": "next-steps",
      "metadata": {},
      "source": [
        "## 6. Next Steps\n",
        "\n",
        "1. **Confirm your environment**: In Binder, the environment should already be set up for you. If you wish to work locally, make sure you can open Jupyter Notebooks with R kernel (or RStudio if that’s your preference).\n",
        "2. **Check your packages**: When working locally, install or update `tidyverse`, `DBI`, `RSQLite`, `sqldf` if you’d like to get a head start.\n",
        "3. **Download example files**: If you wish, you can download the sample CSV/Excel files for the first lesson.\n",
        "4. **Come ready to learn**: Have your questions or potential datasets ready for the interactive parts.\n",
        "\n",
        "---\n",
        "\n",
        "**Created by Petr Čala**\n",
        "\n",
        "_Last updated: [2025-02-26]_\n"
      ]
    }
  ],
  "metadata": {
    "kernelspec": {
      "display_name": "R",
      "language": "R",
      "name": "ir"
    },
    "language_info": {
      "codemirror_mode": "r",
      "file_extension": ".r",
      "mimetype": "text/x-r-source",
      "name": "R"
    }
  },
  "nbformat": 4,
  "nbformat_minor": 5
}
