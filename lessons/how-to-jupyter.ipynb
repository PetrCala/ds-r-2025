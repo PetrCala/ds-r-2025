{
  "cells": [
    {
      "cell_type": "markdown",
      "metadata": {},
      "source": [
        "# What is a Jupyter notebook and how do I use it?\n",
        "\n",
        "**Author:** Petr Čala  \n",
        "**Date:** 2025-02-26\n",
        "\n",
        "---\n",
        "\n",
        "Welcome to an **introductory part** of our course! In this notebook we will be introducing the **basics of Jupyter Notebook usage**, so you feel comfortable working in this environment before diving into more complex data tasks.\n",
        "\n",
        "By the end of this notebook, you should understand:\n",
        "\n",
        "- How to create, open, and save a **Jupyter Notebook**.\n",
        "- The difference between **Code cells** and **Markdown cells**.\n",
        "- Common **keyboard shortcuts** (e.g., running cells, editing cells).\n",
        "- How to **export** your notebook and share your work.\n"
      ]
    },
    {
      "cell_type": "markdown",
      "metadata": {},
      "source": [
        "## 1. What is a Jupyter Notebook?\n",
        "\n",
        "A Jupyter Notebook is an interactive environment that allows you to combine **code**, **visualizations**, and **explanatory text** in one place. It’s perfect for data exploration, analysis, and sharing results.\n",
        "\n",
        "### Key Points:\n",
        "\n",
        "- **Cells**: Notebooks are divided into cells (either **Code** or **Markdown**).\n",
        "- **Code Cells**: Contain executable code (in Python, R, or other languages depending on the kernel).\n",
        "- **Markdown Cells**: Contain text formatted using [Markdown](https://www.markdownguide.org/).\n",
        "- **Kernels**: The computational engine that executes the code. (Here we're using the Python 3 kernel.)\n",
        "- **Saving**: Use the save icon or `Ctrl+S` / `Cmd+S` to save your notebook.\n"
      ]
    },
    {
      "cell_type": "markdown",
      "metadata": {},
      "source": [
        "## 2. Running Cells & Basic Keyboard Shortcuts\n",
        "\n",
        "Jupyter Notebook provides several ways to run a cell:\n",
        "\n",
        "- **Click the 'Run' button** in the toolbar.\n",
        "- Press `Shift+Enter` to run the current cell and move to the next.\n",
        "- Press `Ctrl+Enter` (or `Cmd+Enter` on Mac) to run the current cell and stay in the same cell.\n",
        "\n",
        "### Other Useful Shortcuts:\n",
        "\n",
        "- **Enter**: Switch to edit mode (type/edit in a cell).\n",
        "- **Esc**: Switch to command mode (for notebook-level commands).\n",
        "- **A** (in command mode): Insert a new cell **Above**.\n",
        "- **B** (in command mode): Insert a new cell **Below**.\n",
        "- **M** (in command mode): Convert a cell to **Markdown**.\n",
        "- **Y** (in command mode): Convert a cell to **Code**.\n",
        "- **DD** (in command mode): **Delete** a cell.\n"
      ]
    },
    {
      "cell_type": "code",
      "execution_count": null,
      "metadata": {},
      "outputs": [],
      "source": [
        "# 3. Example: Running Python Code in a Code Cell\n",
        "print(\"Hello, Jupyter Notebook!\")"
      ]
    },
    {
      "cell_type": "markdown",
      "metadata": {},
      "source": [
        "Run the cell above (using the toolbar **Run** button or `Shift+Enter`) to see the output.\n",
        "\n",
        "## 4. Editing, Saving & Exporting\n",
        "\n",
        "1. **Editing**: Click inside a cell (or press Enter) to edit its content.\n",
        "2. **Saving**: Use `Ctrl+S` / `Cmd+S` or click the disk icon in the toolbar.\n",
        "3. **Exporting**: Go to `File > Download as` (or `File > Export Notebook As` in newer Jupyter Lab versions) to export your notebook in various formats (HTML, PDF, .py, etc.).\n",
        "\n",
        "## 5. Conclusion\n",
        "\n",
        "You've now seen how to:\n",
        "\n",
        "- Create and run cells (both code and Markdown).\n",
        "- Use keyboard shortcuts for a faster workflow.\n",
        "- Save and export your notebook.\n",
        "\n",
        "With these basics under your belt, you can explore more advanced topics like data manipulation, visualization, and yes, eventually **databases** and **SQL** in various programming languages!\n",
        "\n",
        "In upcoming lessons, we'll merge these Jupyter skills with more specialized data-oriented techniques to help you streamline your research, journalistic work, or data science projects.\n",
        "\n",
        "## Useful links\n",
        "\n",
        "- [**Jupyter notebook cheat sheet**](https://www.edureka.co/blog/wp-content/uploads/2018/10/Jupyter_Notebook_CheatSheet_Edureka.pdf): A cheat sheet that puts together all the various functions of the Jupyter notebook.\n",
        "- [**jupyter.org**](https://jupyter.org): Home website of the Jupyter software.\n"
      ]
    }
  ],
  "metadata": {
    "kernelspec": {
      "display_name": "Python 3",
      "language": "python",
      "name": "python3"
    },
    "language_info": {
      "codemirror_mode": {
        "name": "ipython",
        "version": 3
      },
      "file_extension": ".py",
      "mimetype": "text/x-python",
      "name": "python",
      "nbconvert_exporter": "python",
      "pygments_lexer": "ipython3",
      "version": "3.9"
    }
  },
  "nbformat": 4,
  "nbformat_minor": 5
}
