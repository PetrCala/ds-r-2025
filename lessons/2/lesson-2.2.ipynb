{
 "cells": [
  {
   "cell_type": "markdown",
   "id": "2b38dd05",
   "metadata": {},
   "source": [
    "# Part 2, Lesson 2: Advanced SQL Features, Window Functions, & R Integration\n",
    "**Author:** Petr Čala  \n",
    "**Date:** 2025-03-05\n",
    "\n",
    "# Part 2 – Lesson 2: Advanced SQL + R\n",
    "\n",
    "Welcome to the **second 4-hour session** of Part 2! This lesson continues where we left off with **databases and SQL** in R. We’ll focus on:\n",
    "\n",
    "1. **Recap** & Q&A from Lesson 1\n",
    "2. **Window Functions** in SQL\n",
    "3. **Subqueries** & More Complex Joins\n",
    "4. **Indexing & Performance Tips**\n",
    "5. **Integrating SQL with R** (dbplyr advanced usage)\n",
    "6. **Intro to Shiny** for Data Exploration (Optional)\n",
    "7. **Wrap-Up** & Next Steps\n",
    "\n",
    "By the end, you’ll be able to write more sophisticated queries and understand how to optimize your database usage in R-driven projects.\n"
   ]
  },
  {
   "cell_type": "markdown",
   "id": "741258cd",
   "metadata": {},
   "source": [
    "---\n",
    "\n",
    "## 1. Recap & Q&A\n",
    "\n",
    "In **Part 2, Lesson 1**, you learned:\n",
    "\n",
    "- When to use a **database** vs. flat files.\n",
    "- How to **connect** R to an SQLite database (and general references for MySQL/Postgres).\n",
    "- **Basic SQL** statements (`SELECT`, `INSERT`, `UPDATE`, `JOIN`, `GROUP BY`).\n",
    "- Simple **ETL** (Extract, Transform, Load) workflow with R + SQLite.\n",
    "\n",
    "### Check-In\n",
    "\n",
    "- Do you have any **open questions** or trouble connecting to databases?\n",
    "- Did you try **loading** your own data into a local SQLite or remote MySQL/Postgres?\n",
    "- Did you experiment with **joins** and **grouped** queries?\n",
    "\n",
    "Take a moment to address any issues before diving into advanced topics.\n"
   ]
  },
  {
   "cell_type": "markdown",
   "id": "d6afe5e6",
   "metadata": {},
   "source": [
    "---\n",
    "\n",
    "## 2. Window Functions in SQL\n",
    "\n",
    "Window (or **analytic**) functions let you perform calculations **across sets of rows** that are somehow related to the current row. Common examples:\n",
    "\n",
    "- **Ranking** (RANK, DENSE_RANK, ROW_NUMBER)\n",
    "- **Running Totals** (SUM(...) OVER ...)\n",
    "- **Moving Averages**\n",
    "\n",
    "### 2.1 Window Functions in SQLite\n",
    "\n",
    "SQLite supports window functions in newer versions (>= 3.25). If using MySQL/Postgres, the syntax is similar (with minor differences). Let’s demonstrate with an **in-memory** SQLite DB.\n"
   ]
  },
  {
   "cell_type": "code",
   "execution_count": null,
   "id": "cd5aba7d",
   "metadata": {
    "vscode": {
     "languageId": "r"
    }
   },
   "outputs": [],
   "source": [
    "library(DBI)\n",
    "library(RSQLite)\n",
    "library(dplyr)\n",
    "\n",
    "# Create or re-use an in-memory SQLite connection\n",
    "con <- dbConnect(RSQLite::SQLite(), \":memory:\")\n",
    "\n",
    "# Let's make a sample table to demonstrate\n",
    "df_sales <- data.frame(\n",
    "  region = c(\"North\", \"North\", \"South\", \"South\", \"East\", \"East\", \"East\"),\n",
    "  month  = c(\"Jan\", \"Feb\", \"Jan\", \"Feb\", \"Jan\", \"Feb\", \"Mar\"),\n",
    "  sales  = c(100, 150, 80, 120, 90, 95, 130)\n",
    ")\n",
    "\n",
    "dbWriteTable(con, \"sales_data\", df_sales)\n",
    "dbListTables(con)\n"
   ]
  },
  {
   "cell_type": "markdown",
   "id": "9eff5152",
   "metadata": {},
   "source": [
    "### 2.2 Using a Ranking Window Function\n",
    "\n",
    "A **ranking** example: Let’s rank each row by `sales` within each `region`.\n",
    "\n",
    "**SQL** (pseudo-code in SQLite):\n",
    "\n",
    "```sql\n",
    "SELECT\n",
    "    region,\n",
    "    month,\n",
    "    sales,\n",
    "    RANK() OVER (PARTITION BY region ORDER BY sales DESC) AS sales_rank\n",
    "FROM sales_data;\n",
    "```\n",
    "\n",
    "This partitions the data by `region`, then orders by `sales` descending. The `sales_rank` column will show 1 for highest sales, 2 for second highest, etc.\n"
   ]
  },
  {
   "cell_type": "code",
   "execution_count": null,
   "id": "65d5657f",
   "metadata": {
    "vscode": {
     "languageId": "r"
    }
   },
   "outputs": [],
   "source": [
    "# Let's run that query in R\n",
    "res_window <- dbGetQuery(con, \"SELECT\n",
    "                            region,\n",
    "                            month,\n",
    "                            sales,\n",
    "                            RANK() OVER (PARTITION BY region ORDER BY sales DESC) AS sales_rank\n",
    "                          FROM sales_data;\")\n",
    "res_window\n"
   ]
  },
  {
   "cell_type": "markdown",
   "id": "4a67643a",
   "metadata": {},
   "source": [
    "> **Note**: If your SQLite version doesn’t support window functions, you’ll need to upgrade or use a different DB (e.g., Postgres). For MySQL (version 8+), syntax is similar.\n",
    "\n",
    "### 2.3 Running Totals / Cumulative Sums\n",
    "\n",
    "Another common use case: **cumulative sums** or **running totals**. Let’s compute a running total of `sales` **by region**, ordered by month.\n",
    "\n",
    "```sql\n",
    "SELECT\n",
    "  region,\n",
    "  month,\n",
    "  sales,\n",
    "  SUM(sales) OVER (\n",
    "    PARTITION BY region\n",
    "    ORDER BY month\n",
    "    ROWS BETWEEN UNBOUNDED PRECEDING AND CURRENT ROW\n",
    "  ) AS running_total\n",
    "FROM sales_data;\n",
    "```\n",
    "\n",
    "We need the `ORDER BY month` logic to define the time progression. (This example is simplistic because `month` is not numeric, but you get the idea.)\n"
   ]
  },
  {
   "cell_type": "code",
   "execution_count": null,
   "id": "37842265",
   "metadata": {
    "vscode": {
     "languageId": "r"
    }
   },
   "outputs": [],
   "source": [
    "# Let's just do a quick demonstration with the actual query.\n",
    "# We'll assume month order is alphabetical for this example.\n",
    "\n",
    "res_running <- dbGetQuery(con, \"SELECT\n",
    "  region,\n",
    "  month,\n",
    "  sales,\n",
    "  SUM(sales) OVER (\n",
    "    PARTITION BY region\n",
    "    ORDER BY month\n",
    "    ROWS BETWEEN UNBOUNDED PRECEDING AND CURRENT ROW\n",
    "  ) AS running_total\n",
    "FROM sales_data;\")\n",
    "\n",
    "res_running\n"
   ]
  },
  {
   "cell_type": "markdown",
   "id": "7e0a1745",
   "metadata": {},
   "source": [
    "That’s a brief taste of window functions, which can be **extremely** powerful for advanced analysis (rankings, moving averages, etc.).\n",
    "\n",
    "> **Exercise**: Try using `DENSE_RANK()`, `ROW_NUMBER()`, or computing an **average** over a window.\n"
   ]
  },
  {
   "cell_type": "markdown",
   "id": "ab35a6a4",
   "metadata": {},
   "source": [
    "---\n",
    "\n",
    "## 3. Subqueries & More Complex Joins\n",
    "\n",
    "### 3.1 Subqueries\n",
    "\n",
    "A **subquery** is a query nested inside another. For example, suppose we want to find all employees whose salary is above the **average** salary.\n",
    "\n",
    "```sql\n",
    "SELECT *\n",
    "FROM employees\n",
    "WHERE salary > (\n",
    "  SELECT AVG(salary)\n",
    "  FROM employees\n",
    ");\n",
    "```\n",
    "\n",
    "We can use the same logic in a **WHERE** clause or a **JOIN**. Let’s quickly demonstrate with the `employees` table from the previous lesson (you can re-create it or adapt the concept to your existing data).\n"
   ]
  },
  {
   "cell_type": "code",
   "execution_count": null,
   "id": "7c8a326d",
   "metadata": {
    "vscode": {
     "languageId": "r"
    }
   },
   "outputs": [],
   "source": [
    "# We'll create a quick employees table in the same in-memory DB to illustrate.\n",
    "\n",
    "dbExecute(con, \"DROP TABLE IF EXISTS employees;\")\n",
    "dbExecute(con, \"CREATE TABLE employees (\n",
    "             emp_id INTEGER PRIMARY KEY,\n",
    "             name TEXT,\n",
    "             salary REAL\n",
    "           );\")\n",
    "\n",
    "dbExecute(con, \"INSERT INTO employees (name, salary)\n",
    "             VALUES ('Alice', 50000),\n",
    "                    ('Bob',   65000),\n",
    "                    ('Carla', 40000),\n",
    "                    ('David', 80000);\")\n",
    "\n",
    "# Subquery to find employees above average salary\n",
    "above_avg <- dbGetQuery(con, \"SELECT name, salary\n",
    "                         FROM employees\n",
    "                         WHERE salary > (SELECT AVG(salary) FROM employees);\")\n",
    "above_avg\n"
   ]
  },
  {
   "cell_type": "markdown",
   "id": "d3adecc7",
   "metadata": {},
   "source": [
    "### 3.2 Complex Joins with Subqueries\n",
    "\n",
    "We can nest subqueries in `JOIN` conditions or do multi-level subselects. For instance, if you have tables **orders** and **customers**, you might do something like:\n",
    "\n",
    "```sql\n",
    "SELECT c.name, c.city, o.order_date, o.amount\n",
    "FROM customers c\n",
    "INNER JOIN (\n",
    "  SELECT *\n",
    "  FROM orders\n",
    "  WHERE amount > 100\n",
    ") AS o\n",
    "ON c.customer_id = o.customer_id;\n",
    "```\n",
    "\n",
    "This filters `orders` to only those above 100 in a **subquery** before joining to `customers`.\n",
    "\n",
    "> **Exercise**: Incorporate window functions or subqueries into a **join** query on your own sample data.\n"
   ]
  },
  {
   "cell_type": "markdown",
   "id": "ca6b3968",
   "metadata": {},
   "source": [
    "---\n",
    "\n",
    "## 4. Indexing & Performance Tips\n",
    "\n",
    "### 4.1 Why Index?\n",
    "\n",
    "**Indexes** speed up queries on certain columns by building a data structure (like a B-tree). If you frequently filter by `salary`, indexing `salary` can help. In SQLite:\n",
    "\n",
    "```sql\n",
    "CREATE INDEX idx_salary ON employees(salary);\n",
    "```\n",
    "\n",
    "When you do `WHERE salary > 50000;`, the DB can quickly locate matching rows.\n",
    "\n",
    "### 4.2 Query Plans\n",
    "\n",
    "Databases have **query planners** that decide how to execute queries. For debugging complex queries, you can do:\n",
    "\n",
    "```sql\n",
    "EXPLAIN QUERY PLAN SELECT * FROM employees WHERE salary > 50000;\n",
    "```\n",
    "\n",
    "This helps you see if the DB is using an index or doing a full table scan.\n",
    "\n",
    "> **Note**: For large data, also consider normalizing tables, proper **column data types**, and possibly **partitioning** (in bigger DB systems).\n"
   ]
  },
  {
   "cell_type": "markdown",
   "id": "a03b84d9",
   "metadata": {},
   "source": [
    "---\n",
    "\n",
    "## 5. Integrating SQL with R More Deeply (dbplyr)\n",
    "\n",
    "We’ve seen `dbGetQuery()` for raw SQL, but **dbplyr** (part of `dplyr`) lets you write R code that translates to SQL behind the scenes.\n",
    "\n",
    "### 5.1 Basic dbplyr Setup\n",
    "\n",
    "```r\n",
    "library(dbplyr)\n",
    "tbl_emp <- tbl(con, \"employees\")   # reference the employees table\n",
    "\n",
    "tbl_emp %>%\n",
    "  filter(salary > 50000) %>%\n",
    "  select(name, salary) %>%\n",
    "  arrange(desc(salary)) %>%\n",
    "  show_query()\n",
    "```\n",
    "\n",
    "The `show_query()` command reveals the **SQL** that dbplyr generates. When you do a final operation like `collect()`, it pulls the data into R.\n"
   ]
  },
  {
   "cell_type": "code",
   "execution_count": null,
   "id": "42904bc9",
   "metadata": {
    "vscode": {
     "languageId": "r"
    }
   },
   "outputs": [],
   "source": [
    "# Let's demonstrate quickly\n",
    "library(dbplyr)\n",
    "\n",
    "tbl_emp <- tbl(con, \"employees\")\n",
    "\n",
    "tbl_emp %>%\n",
    "  filter(salary > 50000) %>%\n",
    "  select(name, salary) %>%\n",
    "  arrange(desc(salary)) %>%\n",
    "  show_query()\n"
   ]
  },
  {
   "cell_type": "markdown",
   "id": "7931cb81",
   "metadata": {},
   "source": [
    "### 5.2 Using Window Functions via dbplyr\n",
    "\n",
    "dbplyr also supports some window functions. For instance:\n",
    "\n",
    "```r\n",
    "tbl_sales <- tbl(con, \"sales_data\")\n",
    "\n",
    "tbl_sales %>%\n",
    "  group_by(region) %>%\n",
    "  mutate(rank = min_rank(desc(sales))) %>%\n",
    "  arrange(region, rank) %>%\n",
    "  collect()\n",
    "```\n",
    "\n",
    "Behind the scenes, dbplyr generates a `RANK()` or `MIN_RANK()` window function call. Keep in mind **not all** window functions are supported in older versions of dbplyr or certain DB engines. But it’s a powerful approach for writing **SQL**-like logic in R syntax.\n"
   ]
  },
  {
   "cell_type": "markdown",
   "id": "76c5b3fb",
   "metadata": {},
   "source": [
    "---\n",
    "\n",
    "## 6. Intro to Shiny for Data Exploration (Optional)\n",
    "\n",
    "If time permits, you can show how to build a **Shiny** app to let non-technical users query or visualize data from a database.\n",
    "\n",
    "### 6.1 Basic Shiny Setup\n",
    "\n",
    "```r\n",
    "# install.packages(\"shiny\") if not installed\n",
    "library(shiny)\n",
    "\n",
    "ui <- fluidPage(\n",
    "  titlePanel(\"Simple DB Query\"),\n",
    "  sidebarLayout(\n",
    "    sidebarPanel(\n",
    "      selectInput(\"region_input\", \"Region:\", choices = c(\"North\", \"South\", \"East\"))\n",
    "    ),\n",
    "    mainPanel(\n",
    "      tableOutput(\"sales_table\")\n",
    "    )\n",
    "  )\n",
    ")\n",
    "\n",
    "server <- function(input, output) {\n",
    "  output$sales_table <- renderTable({\n",
    "    query <- paste0(\"SELECT * FROM sales_data WHERE region = '\", input$region_input, \"';\")\n",
    "    dbGetQuery(con, query)\n",
    "  })\n",
    "}\n",
    "\n",
    "shinyApp(ui, server)\n",
    "```\n",
    "\n",
    "This is a **bare-bones** example. The user can pick a region, and the app queries that subset of `sales_data` in the SQLite database. You can add **plots**, **filters**, or more advanced features.\n",
    "\n",
    "> **Note**: Shiny runs in the R environment, so ensure your DB connection is accessible. For production, you might use a secure, remote DB.\n"
   ]
  },
  {
   "cell_type": "markdown",
   "id": "de63975b",
   "metadata": {},
   "source": [
    "---\n",
    "\n",
    "## 7. Wrap-Up & Next Steps\n",
    "\n",
    "In this **Part 2, Lesson 2**, you covered:\n",
    "\n",
    "- **Window Functions** (ranking, running totals) for advanced analytics.\n",
    "- **Subqueries** for more complex logic.\n",
    "- **Indexing & Performance**: speed up queries with indexes.\n",
    "- **dbplyr** integration for writing R code that translates to SQL.\n",
    "- An optional **Shiny** preview to query DB data in a user-friendly interface.\n",
    "\n",
    "### Where to Go from Here\n",
    "\n",
    "1. Experiment with **more window function** variants (moving averages, partitioning by multiple columns).\n",
    "2. Explore real-world data in a multi-table design: practice joins, subqueries, indexing.\n",
    "3. If relevant, build a **Shiny** app or simple web-based data explorer for your final project.\n",
    "4. Look into advanced database features: triggers, stored procedures, or advanced query optimization.\n",
    "\n",
    "### Additional Resources\n",
    "\n",
    "- **dbplyr** doc: https://db.rstudio.com/dbplyr/\n",
    "- **Window Functions** doc for your DB engine (e.g., Postgres or SQLite official docs).\n",
    "- **Shiny** tutorials: https://shiny.rstudio.com/tutorial/\n",
    "- **Performance** tips: indexing strategies, `EXPLAIN`/`EXPLAIN ANALYZE` usage, data normalization.\n",
    "\n",
    "This concludes the advanced portion on SQL with R. Continue exploring if you have large datasets or complex relationships that benefit from a relational database approach.\n",
    "\n",
    "# End of Part 2, Lesson 2\n"
   ]
  }
 ],
 "metadata": {
  "kernelspec": {
   "display_name": "R",
   "language": "R",
   "name": "ir"
  },
  "language_info": {
   "file_extension": ".r",
   "mimetype": "text/x-r-source",
   "name": "R"
  }
 },
 "nbformat": 4,
 "nbformat_minor": 5
}
