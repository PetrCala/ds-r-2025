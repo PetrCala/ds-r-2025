{
 "cells": [
  {
   "cell_type": "markdown",
   "id": "7e238b3b",
   "metadata": {},
   "source": [
    "# Lesson 1: Data Import, Cleaning, and Basic EDA in R\n",
    "\n",
    "**Author:** Petr Čala  \n",
    "**Date:** 2025-02-26\n",
    "\n",
    "# Lesson 1 Notebook\n",
    "\n",
    "Welcome to our first 4-hour block! In this lesson, we will cover:\n",
    "\n",
    "1. **Environment Setup and Package Installation**\n",
    "2. **Basic Recap of R Commands**\n",
    "3. **Data Import & Export**\n",
    "4. **Data Exploration and Summary**\n",
    "5. **Data Cleaning & Preprocessing** (missing values, renaming columns, data type conversions, etc.)\n",
    "6. **Basic Exploratory Data Analysis** (simple statistics and plots)\n",
    "\n",
    "We’ll work step-by-step, and by the end, you should feel comfortable handling a basic data cleaning workflow and generating a few quick insights from your dataset.\n"
   ]
  },
  {
   "cell_type": "markdown",
   "id": "fe730f09",
   "metadata": {},
   "source": [
    "---\n",
    "\n",
    "## 1. Environment Setup\n",
    "\n",
    "In this section, we’ll ensure your environment is ready. We’ll load the libraries we need. If any of these libraries are missing, you can install them with `install.packages(\"package_name\")`.\n"
   ]
  },
  {
   "cell_type": "code",
   "execution_count": null,
   "id": "4c7457bc",
   "metadata": {
    "vscode": {
     "languageId": "r"
    }
   },
   "outputs": [],
   "source": [
    "# Run this cell to load (and if necessary, install) required packages:\n",
    "\n",
    "# If you need to install:\n",
    "# install.packages(\"tidyverse\")\n",
    "# install.packages(\"skimr\")  # Optional, but nice for data summaries\n",
    "\n",
    "library(tidyverse)\n",
    "library(skimr) # For a more detailed summary\n"
   ]
  },
  {
   "cell_type": "markdown",
   "id": "9864aca9",
   "metadata": {},
   "source": [
    "### Check Your Working Directory\n",
    "\n",
    "> **Instructor Note**: Make sure all students have their working directory set to a folder where their CSV file is located (or where they plan to save outputs).\n"
   ]
  },
  {
   "cell_type": "code",
   "execution_count": null,
   "id": "2efc5037",
   "metadata": {
    "vscode": {
     "languageId": "r"
    }
   },
   "outputs": [],
   "source": [
    "# This shows your current working directory in a Jupyter environment:\n",
    "getwd()\n",
    "\n",
    "# If needed, set your working directory (uncomment & modify the path):\n",
    "# setwd(\"path/to/your/folder\")\n"
   ]
  },
  {
   "cell_type": "markdown",
   "id": "e5b4fd26",
   "metadata": {},
   "source": [
    "---\n",
    "\n",
    "## 2. (Optional) Create Example CSV\n",
    "\n",
    "If you want to distribute a prepared CSV, you can skip this. Otherwise, run the following code to simulate a small “messy” dataset in your current directory.\n"
   ]
  },
  {
   "cell_type": "code",
   "execution_count": null,
   "id": "1d0c89a8",
   "metadata": {
    "vscode": {
     "languageId": "r"
    }
   },
   "outputs": [],
   "source": [
    "## Create a small random dataset and write it to CSV:\n",
    "set.seed(123) # For reproducibility\n",
    "\n",
    "# Example: We'll simulate data about some hypothetical employees\n",
    "employee_data <- data.frame(\n",
    "  ID = 1:15,\n",
    "  Name = c(\"Alice\", \"Bob\", \"Carla\", \"David\", \"Elena\", \"Frank\", \"Georgia\", \"Henry\", \"Ivy\", \"John\", \"Kate\", \"Luke\", \"Mona\", \"Nick\", \"Olivia\"),\n",
    "  Age = c(25, 34, 28, NA, 42, 51, 29, 33, 41, 38, NA, 23, 27, 45, 36),\n",
    "  Department = c(\"Marketing\", \"Marketing\", \"Sales\", \"HR\", \"Sales\", \"Sales\", \"Marketing\", \"IT\", \"IT\", \"HR\", \"HR\", \"NA\", \"Marketing\", \"IT\", \"NA\"),\n",
    "  Salary = c(50000, 60000, 55000, 45000, 65000, 70000, 52000, 80000, 75000, 48000, 46000, 40000, 53000, 81000, 42000),\n",
    "  Performance_Score = c(\"Good\", \"Excellent\", \"Fair\", \"Excellent\", \"Good\", \"Good\", \"Fair\", \"Excellent\", \"Good\", \"Fair\", \"Good\", \"NA\", \"Fair\", \"Excellent\", \"NA\"),\n",
    "  stringsAsFactors = FALSE\n",
    ")\n",
    "\n",
    "# Write to CSV\n",
    "write_csv(employee_data, \"messy_data.csv\")\n",
    "\n",
    "# Check the file\n",
    "list.files(pattern = \"messy_data.csv\")\n"
   ]
  },
  {
   "cell_type": "markdown",
   "id": "7036ffe3",
   "metadata": {},
   "source": [
    "> **Note**: The dataset has some missing values (`NA`), some potential data quality issues, and a text-based categorical column (`Performance_Score`).\n"
   ]
  },
  {
   "cell_type": "markdown",
   "id": "4bc5771e",
   "metadata": {},
   "source": [
    "---\n",
    "\n",
    "## 3. Data Import\n",
    "\n",
    "Now, let’s load the dataset we just created (or provided) in CSV format.\n"
   ]
  },
  {
   "cell_type": "code",
   "execution_count": null,
   "id": "37d23def",
   "metadata": {
    "vscode": {
     "languageId": "r"
    }
   },
   "outputs": [],
   "source": [
    "# Replace \"messy_data.csv\" with your actual CSV file name if different\n",
    "df <- read_csv(\"messy_data.csv\")\n",
    "\n",
    "# Let's see the first few rows\n",
    "head(df)\n",
    "\n",
    "# Let's quickly inspect the structure\n",
    "str(df)\n"
   ]
  },
  {
   "cell_type": "markdown",
   "id": "72e341c5",
   "metadata": {},
   "source": [
    "### Quick Exercises\n",
    "\n",
    "1. **Change the file name** to something else and load it again.\n",
    "2. **Check** what happens if you use `read.csv(\"filename.csv\")` vs. `read_csv(\"filename.csv\")` (the base R and the readr approach differ slightly in how they handle data types).\n"
   ]
  },
  {
   "cell_type": "markdown",
   "id": "12d85f58",
   "metadata": {},
   "source": [
    "---\n",
    "\n",
    "## 4. Basic Recap of R & Exploratory Data Checks\n",
    "\n",
    "### 4.1 Summaries\n"
   ]
  },
  {
   "cell_type": "code",
   "execution_count": null,
   "id": "1dd75bf6",
   "metadata": {
    "vscode": {
     "languageId": "r"
    }
   },
   "outputs": [],
   "source": [
    "# Basic summary\n",
    "summary(df)\n",
    "\n",
    "# More detailed summary using skimr (if installed)\n",
    "skim(df)\n"
   ]
  },
  {
   "cell_type": "markdown",
   "id": "b56a6e36",
   "metadata": {},
   "source": [
    "The `summary()` function gives a quick overview of numeric columns (min, max, median, mean) and factor/string columns. `skim()` goes a bit deeper if you have it installed.\n"
   ]
  },
  {
   "cell_type": "markdown",
   "id": "731fad23",
   "metadata": {},
   "source": [
    "### 4.2 Viewing the Data\n"
   ]
  },
  {
   "cell_type": "code",
   "execution_count": null,
   "id": "0c1b56b4",
   "metadata": {
    "vscode": {
     "languageId": "r"
    }
   },
   "outputs": [],
   "source": [
    "# For a larger view in a separate tab (works in RStudio best):\n",
    "# View(df)\n"
   ]
  },
  {
   "cell_type": "markdown",
   "id": "641d5968",
   "metadata": {},
   "source": [
    "> **Tip**: In Jupyter, you can just print `df` or head of `df`. In RStudio, `View(df)` opens a spreadsheet-like viewer.\n"
   ]
  },
  {
   "cell_type": "markdown",
   "id": "aa43b37a",
   "metadata": {},
   "source": [
    "---\n",
    "\n",
    "## 5. Data Cleaning & Preprocessing\n",
    "\n",
    "Here’s where we start cleaning. We’ll walk through **renaming columns**, **dealing with missing values**, and **converting data types** if needed.\n",
    "\n",
    "### 5.1 Renaming Columns\n",
    "\n",
    "We might have columns with awkward names. Let’s rename them using `dplyr::rename()`:\n"
   ]
  },
  {
   "cell_type": "code",
   "execution_count": null,
   "id": "5fd72c19",
   "metadata": {
    "vscode": {
     "languageId": "r"
    }
   },
   "outputs": [],
   "source": [
    "df <- df %>%\n",
    "  rename(\n",
    "    PerfScore = Performance_Score\n",
    "  )\n",
    "\n",
    "# Check new names\n",
    "names(df)\n"
   ]
  },
  {
   "cell_type": "markdown",
   "id": "98d59a96",
   "metadata": {},
   "source": [
    "### 5.2 Handling Missing Values\n",
    "\n",
    "1. **Identify Missing Values** using `is.na()`:\n"
   ]
  },
  {
   "cell_type": "code",
   "execution_count": null,
   "id": "7f394ad7",
   "metadata": {
    "vscode": {
     "languageId": "r"
    }
   },
   "outputs": [],
   "source": [
    "colSums(is.na(df))\n"
   ]
  },
  {
   "cell_type": "markdown",
   "id": "be04364f",
   "metadata": {},
   "source": [
    "2. **Deciding What to Do**:\n",
    "\n",
    "- We might remove rows with too many missing values.\n",
    "- Or we might **impute** them (e.g., replace them with the mean or median).\n",
    "- For this example, let’s remove rows where the department is `NA`:\n"
   ]
  },
  {
   "cell_type": "code",
   "execution_count": null,
   "id": "cd8b2d7b",
   "metadata": {
    "vscode": {
     "languageId": "r"
    }
   },
   "outputs": [],
   "source": [
    "# Example: remove rows with missing \"Department\"\n",
    "df <- df %>%\n",
    "  filter(!is.na(Department))\n",
    "\n",
    "# Re-check for missing values\n",
    "colSums(is.na(df))\n"
   ]
  },
  {
   "cell_type": "markdown",
   "id": "8e57ff00",
   "metadata": {},
   "source": [
    "3. **Imputing** (Example on Age):\n",
    "\n",
    "- Let’s replace missing `Age` values with the mean `Age`:\n"
   ]
  },
  {
   "cell_type": "code",
   "execution_count": null,
   "id": "956d260a",
   "metadata": {
    "vscode": {
     "languageId": "r"
    }
   },
   "outputs": [],
   "source": [
    "mean_age <- mean(df$Age, na.rm = TRUE)\n",
    "df$Age <- ifelse(is.na(df$Age), mean_age, df$Age)\n",
    "\n",
    "# Check again\n",
    "colSums(is.na(df))\n"
   ]
  },
  {
   "cell_type": "markdown",
   "id": "540e71cb",
   "metadata": {},
   "source": [
    "> **Instructor Note**: Discuss the pros/cons of removing vs. imputing data. Also highlight that for journalistic data stories, transparency about how you handle missing data is crucial.\n",
    "\n",
    "### 5.3 Data Type Conversion\n",
    "\n",
    "Sometimes columns should be factors (categorical) or numeric. Let’s ensure `Department` and `PerfScore` are factors:\n"
   ]
  },
  {
   "cell_type": "code",
   "execution_count": null,
   "id": "a0c07cd5",
   "metadata": {
    "vscode": {
     "languageId": "r"
    }
   },
   "outputs": [],
   "source": [
    "df <- df %>%\n",
    "  mutate(\n",
    "    Department = as.factor(Department),\n",
    "    PerfScore  = as.factor(PerfScore)\n",
    "  )\n",
    "\n",
    "# Check again\n",
    "str(df)\n"
   ]
  },
  {
   "cell_type": "markdown",
   "id": "3c699591",
   "metadata": {},
   "source": [
    "---\n",
    "\n",
    "## 6. Basic Transformations with dplyr\n",
    "\n",
    "### 6.1 Selecting and Filtering\n"
   ]
  },
  {
   "cell_type": "code",
   "execution_count": null,
   "id": "e39b2674",
   "metadata": {
    "vscode": {
     "languageId": "r"
    }
   },
   "outputs": [],
   "source": [
    "# Select specific columns\n",
    "df_selected <- df %>%\n",
    "  select(Name, Department, Salary)\n",
    "\n",
    "head(df_selected)\n",
    "\n",
    "# Filter rows based on a condition\n",
    "df_sales <- df %>%\n",
    "  filter(Department == \"Sales\")\n",
    "\n",
    "df_sales\n"
   ]
  },
  {
   "cell_type": "markdown",
   "id": "c7736ea0",
   "metadata": {},
   "source": [
    "### 6.2 Mutating (Creating New Columns)\n"
   ]
  },
  {
   "cell_type": "code",
   "execution_count": null,
   "id": "33d041d8",
   "metadata": {
    "vscode": {
     "languageId": "r"
    }
   },
   "outputs": [],
   "source": [
    "# Create a new column \"Salary_in_Thousands\"\n",
    "df <- df %>%\n",
    "  mutate(\n",
    "    Salary_in_Thousands = Salary / 1000\n",
    "  )\n",
    "\n",
    "head(df)\n"
   ]
  },
  {
   "cell_type": "markdown",
   "id": "edd1a594",
   "metadata": {},
   "source": [
    "### 6.3 Grouping and Summarizing\n"
   ]
  },
  {
   "cell_type": "code",
   "execution_count": null,
   "id": "dc74bce5",
   "metadata": {
    "vscode": {
     "languageId": "r"
    }
   },
   "outputs": [],
   "source": [
    "# Average salary by department\n",
    "df %>%\n",
    "  group_by(Department) %>%\n",
    "  summarise(\n",
    "    Avg_Salary = mean(Salary, na.rm = TRUE),\n",
    "    Count = n()\n",
    "  )\n"
   ]
  },
  {
   "cell_type": "markdown",
   "id": "5c6fa7c7",
   "metadata": {},
   "source": [
    "> **Exercise**: Try grouping by both Department and PerfScore to see if performance scores correlate with salary or department.\n"
   ]
  },
  {
   "cell_type": "markdown",
   "id": "5eeee131",
   "metadata": {},
   "source": [
    "---\n",
    "\n",
    "## 7. Basic Exploratory Data Analysis (EDA)\n",
    "\n",
    "### 7.1 Quick Statistical Checks\n"
   ]
  },
  {
   "cell_type": "code",
   "execution_count": null,
   "id": "697d4721",
   "metadata": {
    "vscode": {
     "languageId": "r"
    }
   },
   "outputs": [],
   "source": [
    "# Summaries for numeric columns\n",
    "summary(df$Salary)\n",
    "summary(df$Age)\n"
   ]
  },
  {
   "cell_type": "markdown",
   "id": "fc156078",
   "metadata": {},
   "source": [
    "### 7.2 Simple Plots with ggplot2\n"
   ]
  },
  {
   "cell_type": "code",
   "execution_count": null,
   "id": "46655282",
   "metadata": {
    "vscode": {
     "languageId": "r"
    }
   },
   "outputs": [],
   "source": [
    "# Histogram of Age\n",
    "ggplot(df, aes(x = Age)) +\n",
    "  geom_histogram(bins = 5, fill = \"skyblue\", color = \"black\") +\n",
    "  labs(title = \"Distribution of Age\", x = \"Age\", y = \"Count\")\n",
    "\n",
    "# Bar plot of Department distribution\n",
    "ggplot(df, aes(x = Department)) +\n",
    "  geom_bar(fill = \"orange\", color = \"black\") +\n",
    "  labs(title = \"Number of Employees per Department\", x = \"Department\", y = \"Count\")\n"
   ]
  },
  {
   "cell_type": "markdown",
   "id": "58438f9f",
   "metadata": {},
   "source": [
    "> **Instructor Note**: Depending on how advanced your class is, you might also introduce basic color/fill by another variable (e.g., fill by `PerfScore`).\n",
    "\n",
    "### 7.3 Boxplot to Check Salary Distribution\n"
   ]
  },
  {
   "cell_type": "code",
   "execution_count": null,
   "id": "7fd22eef",
   "metadata": {
    "vscode": {
     "languageId": "r"
    }
   },
   "outputs": [],
   "source": [
    "ggplot(df, aes(x = Department, y = Salary)) +\n",
    "  geom_boxplot(fill = \"lightgreen\") +\n",
    "  labs(title = \"Salary Distribution by Department\", x = \"Department\", y = \"Salary\")\n"
   ]
  },
  {
   "cell_type": "markdown",
   "id": "8d798bcc",
   "metadata": {},
   "source": [
    "> **Exercise**:\n",
    ">\n",
    "> 1. Create a boxplot or bar plot comparing `PerfScore` across `Department`.\n",
    "> 2. Try coloring the bars by `PerfScore`.\n"
   ]
  },
  {
   "cell_type": "markdown",
   "id": "c3741bb3",
   "metadata": {},
   "source": [
    "---\n",
    "\n",
    "## 8. Exporting the Cleaned Dataset\n",
    "\n",
    "Now that we’ve cleaned and explored the data, we can save our new version of the dataset to a CSV file for future use.\n"
   ]
  },
  {
   "cell_type": "code",
   "execution_count": null,
   "id": "509d6a35",
   "metadata": {
    "vscode": {
     "languageId": "r"
    }
   },
   "outputs": [],
   "source": [
    "write_csv(df, \"cleaned_data.csv\")\n",
    "\n",
    "# Confirm it exists\n",
    "list.files(pattern = \"cleaned_data.csv\")\n"
   ]
  },
  {
   "cell_type": "markdown",
   "id": "d6c40075",
   "metadata": {},
   "source": [
    "---\n",
    "\n",
    "## 9. Summary & Next Steps\n",
    "\n",
    "- **What We Did**:\n",
    "\n",
    "  1. Reviewed how to load libraries and check the working directory.\n",
    "  2. Read in our CSV dataset (`messy_data.csv`).\n",
    "  3. Explored the data structure, found missing values, and handled them.\n",
    "  4. Renamed columns, converted data types, and created new columns.\n",
    "  5. Performed basic EDA: histograms, bar plots, boxplots.\n",
    "  6. Exported our cleaned dataset.\n",
    "\n",
    "- **Next**: In the next session, we’ll look at **more advanced reshaping**, **data merging**, and an **introduction to SQL** in R.\n",
    "\n",
    "> **Instructor Tip**: Encourage students to apply these steps on any dataset relevant to their thesis or final project.\n"
   ]
  },
  {
   "cell_type": "markdown",
   "id": "96b2c26c",
   "metadata": {},
   "source": [
    "# End of Lesson 1\n"
   ]
  },
  {
   "cell_type": "markdown",
   "id": "a4c49d9b",
   "metadata": {},
   "source": [
    "---\n",
    "\n",
    "## Additional Notes for Instructors\n",
    "\n",
    "1. **Data Size**: For demonstration, keep the datasets small so that everything runs quickly in class.\n",
    "2. **Student Engagement**: Encourage them to modify code, try their own filters, or fix missing data in different ways to understand the trade-offs.\n",
    "3. **Make It Real**: Journalists might enjoy using real datasets (e.g., small election datasets, public health statistics, or sample tweets). If time allows, demonstrate how to get data from a public portal (like data.gov or a relevant local open-data site).\n",
    "4. **Troubleshooting**: Common issues include read/write permissions, mismatched working directories, or missing packages. Allocate time for these sorts of setup challenges.\n",
    "\n",
    "By the end of this notebook, your class should have a foundation in reading data, performing essential cleaning steps, and running quick EDA. In **Lesson 2**, you’ll go further into **data reshaping, merging** with `dplyr` joins, and a practical introduction to **running SQL queries** in R.\n"
   ]
  }
 ],
 "metadata": {
  "kernelspec": {
   "display_name": "R",
   "language": "R",
   "name": "ir"
  },
  "language_info": {
   "file_extension": ".r",
   "mimetype": "text/x-r-source",
   "name": "R"
  }
 },
 "nbformat": 4,
 "nbformat_minor": 5
}
