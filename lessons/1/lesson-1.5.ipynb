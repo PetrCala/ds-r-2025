{
 "cells": [
  {
   "cell_type": "markdown",
   "id": "ccda96ec",
   "metadata": {},
   "source": [
    "# Lesson 5: Basic Statistical Analysis & Regression in R\n",
    "**Author:** Petr Čala  \n",
    "**Date:** 2025-02-26\n",
    "\n",
    "# Lesson 5 Notebook\n",
    "\n",
    "Welcome to **Lesson 5**! Over the previous lessons, you’ve acquired a broad skill set in data cleaning, SQL, data manipulation, text handling, advanced visualization, and reproducible workflows. Here, we’ll turn our focus to **basic statistical analysis**, **hypothesis testing**, and **linear regression** in R.\n",
    "\n",
    "## Topics\n",
    "1. Recap & Course Context\n",
    "2. Exploratory Data Analysis (EDA) Refresher\n",
    "3. Basic Statistical Tests\n",
    "4. Linear Regression (Simple & Multiple)\n",
    "5. Interpreting Results & Reporting\n",
    "6. Further Resources\n"
   ]
  },
  {
   "cell_type": "markdown",
   "id": "461ec099",
   "metadata": {},
   "source": [
    "---\n",
    "## 1. Recap & Course Context\n",
    "In previous lessons, you learned how to **handle** and **clean** data, plus how to **visualize** it effectively. Basic statistics and regression techniques are next steps for many final projects, including thesis or journalistic investigations.\n",
    "\n",
    "> **Note**: We’ll keep it simple, focusing on how to **run** certain tests/regressions and **interpret** them at a high level. For deeper theoretical foundations, consult a dedicated statistics course or textbook.\n"
   ]
  },
  {
   "cell_type": "markdown",
   "id": "fa3c52ef",
   "metadata": {},
   "source": [
    "---\n",
    "## 2. Exploratory Data Analysis (EDA) Refresher\n",
    "Before running tests or regressions, we usually do an **EDA** to understand the data. Let’s load an example dataset. We’ll use the built-in `mtcars` again or a custom dataset if you prefer.\n"
   ]
  },
  {
   "cell_type": "code",
   "execution_count": null,
   "id": "908204de",
   "metadata": {},
   "outputs": [],
   "source": [
    "library(tidyverse)\n",
    "\n",
    "# We'll work with mtcars, adding factor columns for clarity\n",
    "df <- mtcars %>%\n",
    "  mutate(\n",
    "    cyl = as.factor(cyl),\n",
    "    am  = as.factor(am),  # 0 = automatic, 1 = manual\n",
    "    vs  = as.factor(vs)   # 0 = V-shaped, 1 = straight engine\n",
    "  )\n",
    "\n",
    "head(df)\n"
   ]
  },
  {
   "cell_type": "markdown",
   "id": "5f33832d",
   "metadata": {},
   "source": [
    "Remember to check:\n",
    "- **Structure**: numeric vs. factor columns.\n",
    "- **Summary stats**: means, medians, standard deviations.\n",
    "- **Visual** inspection of distributions.\n"
   ]
  },
  {
   "cell_type": "code",
   "execution_count": null,
   "id": "0958a8ce",
   "metadata": {},
   "outputs": [],
   "source": [
    "# Structure & summary\n",
    "str(df)\n",
    "summary(df)\n"
   ]
  },
  {
   "cell_type": "markdown",
   "id": "1ebd75a8",
   "metadata": {},
   "source": [
    "### Quick Plot\n",
    "Let’s see the relationship between **miles per gallon** (`mpg`) and **weight** (`wt`):"
   ]
  },
  {
   "cell_type": "code",
   "execution_count": null,
   "id": "b3fbca7b",
   "metadata": {},
   "outputs": [],
   "source": [
    "ggplot(df, aes(x = wt, y = mpg)) +\n",
    "  geom_point(color = \"blue\", size = 3) +\n",
    "  geom_smooth(method = \"lm\", se = TRUE, color = \"red\") +\n",
    "  labs(\n",
    "    title = \"Scatter Plot of mpg vs. wt\",\n",
    "    x = \"Weight (1,000 lbs)\",\n",
    "    y = \"Miles per Gallon\"\n",
    "  ) +\n",
    "  theme_minimal()"
   ]
  },
  {
   "cell_type": "markdown",
   "id": "4ca61b13",
   "metadata": {},
   "source": [
    "> **Observation**: Higher weight seems correlated with lower mpg (negative slope). We’ll confirm with **correlation** and **regression** next.\n"
   ]
  },
  {
   "cell_type": "markdown",
   "id": "029f6620",
   "metadata": {},
   "source": [
    "---\n",
    "## 3. Basic Statistical Tests\n",
    "We’ll cover:\n",
    "1. **Correlation**: Measuring the strength of linear relationships.\n",
    "2. **t-tests**: Comparing group means.\n",
    "3. **Chi-square** (briefly): Checking association between categorical variables.\n",
    "\n",
    "### 3.1 Correlation\n",
    "We can use **Pearson’s correlation** (by default) to measure linear correlation between numeric variables.\n"
   ]
  },
  {
   "cell_type": "code",
   "execution_count": null,
   "id": "3a0c8d01",
   "metadata": {},
   "outputs": [],
   "source": [
    "# Correlation between mpg and weight\n",
    "cor(df$mpg, df$wt, use = \"complete.obs\")"
   ]
  },
  {
   "cell_type": "markdown",
   "id": "be159e6f",
   "metadata": {},
   "source": [
    "This gives a correlation coefficient. For a quick test with `cor.test()`:\n"
   ]
  },
  {
   "cell_type": "code",
   "execution_count": null,
   "id": "5ae7a2b0",
   "metadata": {},
   "outputs": [],
   "source": [
    "cor.test(df$mpg, df$wt)"
   ]
  },
  {
   "cell_type": "markdown",
   "id": "7622000f",
   "metadata": {},
   "source": [
    "Output includes:\n",
    "- **Correlation estimate**.\n",
    "- **p-value** (if < 0.05, typically we say the correlation is statistically significant).\n",
    "- Confidence interval.\n",
    "\n",
    "> **Interpretation**: A strong negative correlation suggests that as weight increases, mpg decreases.\n"
   ]
  },
  {
   "cell_type": "markdown",
   "id": "14de377b",
   "metadata": {},
   "source": [
    "### 3.2 t-tests\n",
    "A **t-test** is used to compare the means of two groups (e.g., does **automatic** vs. **manual** transmission yield different average mpg?).\n"
   ]
  },
  {
   "cell_type": "code",
   "execution_count": null,
   "id": "d655c466",
   "metadata": {},
   "outputs": [],
   "source": [
    "# We'll split by transmission type (am: 0=auto, 1=manual)\n",
    "t.test(mpg ~ am, data = df)"
   ]
  },
  {
   "cell_type": "markdown",
   "id": "fc589460",
   "metadata": {},
   "source": [
    "This is a **two-sample t-test**. Key outputs include:\n",
    "- **Mean** of each group.\n",
    "- **p-value** indicating if the difference in means is significant.\n",
    "\n",
    "> **Journalistic Interpretation**: If the p-value < 0.05, we might say there’s a statistically significant difference in mpg between automatic and manual cars. Always consider context, sample size, and assumptions.\n"
   ]
  },
  {
   "cell_type": "markdown",
   "id": "0be1590b",
   "metadata": {},
   "source": [
    "### 3.3 Chi-Square (Categorical Association)\n",
    "If we want to see if there’s an association between two **categorical variables** (e.g., number of cylinders `cyl` and engine shape `vs`), we can use **chi-square**.\n"
   ]
  },
  {
   "cell_type": "code",
   "execution_count": null,
   "id": "d91f09ca",
   "metadata": {},
   "outputs": [],
   "source": [
    "# Let's create a contingency table\n",
    "tbl <- table(df$cyl, df$vs)\n",
    "tbl\n",
    "\n",
    "# Chi-square test\n",
    "chisq.test(tbl)"
   ]
  },
  {
   "cell_type": "markdown",
   "id": "e87d936e",
   "metadata": {},
   "source": [
    "If the p-value is low, there’s evidence that `cyl` and `vs` are **not** independent (i.e., there is some association between them).\n"
   ]
  },
  {
   "cell_type": "markdown",
   "id": "26dbf124",
   "metadata": {},
   "source": [
    "---\n",
    "## 4. Linear Regression (Simple & Multiple)\n",
    "Regression is a fundamental tool for journalism investigations (e.g., does city budget predict crime rate?), social sciences, and general data analysis.\n",
    "\n",
    "### 4.1 Simple Linear Regression\n",
    "Let’s model `mpg` as a function of `wt` (the single predictor).\n"
   ]
  },
  {
   "cell_type": "code",
   "execution_count": null,
   "id": "7ede10e6",
   "metadata": {},
   "outputs": [],
   "source": [
    "# Fit a simple linear regression: mpg ~ wt\n",
    "model1 <- lm(mpg ~ wt, data = df)\n",
    "summary(model1)"
   ]
  },
  {
   "cell_type": "markdown",
   "id": "efc379f7",
   "metadata": {},
   "source": [
    "Interpretation from the `summary(model1)`:\n",
    "- **Coefficients**: The intercept (`(Intercept)`) and slope (`wt`).\n",
    "- **Estimate** for `wt` is negative, which aligns with correlation.\n",
    "- **p-value** for `wt` (if < 0.05) indicates a statistically significant predictor.\n",
    "- **R-squared** measures how much variance in `mpg` is explained by `wt`.\n"
   ]
  },
  {
   "cell_type": "markdown",
   "id": "589cf9be",
   "metadata": {},
   "source": [
    "### 4.2 Multiple Linear Regression\n",
    "What if we also consider the number of cylinders (`cyl`) and horsepower (`hp`)?\n",
    "We can add them to the model:\n",
    "\n",
    "```r\n",
    "model2 <- lm(mpg ~ wt + cyl + hp, data = df)\n",
    "summary(model2)\n",
    "```\n",
    "Now we interpret each coefficient *controlling for* the others. This is more realistic when multiple factors could influence mpg.\n",
    "\n",
    "> **Exercise**: Try other variables like `am` (transmission type). `mpg ~ wt + hp + am` might reveal how manual vs. automatic influences mpg, after accounting for weight and horsepower.\n"
   ]
  },
  {
   "cell_type": "code",
   "execution_count": null,
   "id": "6caea690",
   "metadata": {},
   "outputs": [],
   "source": [
    "# Let's do a quick multiple regression example:\n",
    "model2 <- lm(mpg ~ wt + cyl + hp, data = df)\n",
    "summary(model2)"
   ]
  },
  {
   "cell_type": "markdown",
   "id": "ec91875c",
   "metadata": {},
   "source": [
    "### 4.3 Model Diagnostics\n",
    "After fitting a model, it’s important to check **residuals** and see if assumptions (linearity, normality, homoscedasticity) hold. In R, you can do:\n",
    "```r\n",
    "plot(model2)\n",
    "```\n",
    "This will produce diagnostic plots (in a typical R environment). In Jupyter, it may generate multiple plots inline. Look for patterns or outliers that violate assumptions.\n"
   ]
  },
  {
   "cell_type": "markdown",
   "id": "321ffde2",
   "metadata": {},
   "source": [
    "---\n",
    "## 5. Interpreting Results & Reporting\n",
    "1. **Statistical Significance**: A p-value < 0.05 is a common (though arbitrary) cutoff. Emphasize real-world context (effect size, sample size) over p-values alone.\n",
    "2. **Coefficients**: In a regression, each coefficient’s sign (+/-) and magnitude matter. For instance, a coefficient of -5 for `wt` means for each additional unit of weight, mpg decreases by 5 (holding other factors constant).\n",
    "3. **Causation vs. Correlation**: Journalists must clarify that regression doesn’t inherently prove causation.\n",
    "4. **Transparency**: Document your steps and assumptions in your final report.\n"
   ]
  },
  {
   "cell_type": "markdown",
   "id": "e09bb3fa",
   "metadata": {},
   "source": [
    "---\n",
    "## 6. Further Resources\n",
    "- **Intro to Statistical Learning** (free e-book): deeper dive into regression, classification, etc.\n",
    "- **rstatix**: a handy R package for simpler stats syntax (t-tests, ANOVAs, etc.).\n",
    "- **Advanced**: For logistic regression or more complex modeling, see `glm()` in R.\n",
    "- **Reading**: Field, Andy. _Discovering Statistics Using R_. A thorough reference.\n"
   ]
  },
  {
   "cell_type": "markdown",
   "id": "af031c5a",
   "metadata": {},
   "source": [
    "---\n",
    "## Summary & Wrap-Up\n",
    "In **Lesson 5**, you:\n",
    "1. Recapped EDA and correlation.\n",
    "2. Learned basic statistical tests (t-tests, chi-square).\n",
    "3. Explored **linear regression** (simple & multiple) and how to read output.\n",
    "4. Discussed the importance of **interpretation** and **reporting**.\n",
    "\n",
    "You now have a **comprehensive** skillset:\n",
    "- Data cleaning/preprocessing (Lessons 1–3)\n",
    "- Reshaping & SQL (Lesson 2)\n",
    "- Advanced visualization & reproducible workflows (Lesson 4)\n",
    "- Basic statistical analysis & regression (Lesson 5)\n",
    "\n",
    "This final lesson should help you incorporate **analytical rigor** into your journalistic or academic projects. Always remember to be transparent about your methods and mindful of the assumptions in any statistical technique.\n",
    "\n",
    "Good luck with your final projects and beyond!\n",
    "\n",
    "# End of Lesson 5\n"
   ]
  }
 ],
 "metadata": {
  "kernelspec": {
   "display_name": "R",
   "language": "R",
   "name": "ir"
  },
  "language_info": {
   "file_extension": ".r",
   "mimetype": "text/x-r-source",
   "name": "R"
  }
 },
 "nbformat": 4,
 "nbformat_minor": 5
}
