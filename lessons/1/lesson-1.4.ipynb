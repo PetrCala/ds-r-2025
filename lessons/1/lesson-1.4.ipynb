{
 "cells": [
  {
   "cell_type": "markdown",
   "id": "2caa6911",
   "metadata": {},
   "source": [
    "# Lesson 4: Advanced Visualization, Reproducible Reporting, and Final Projects\n",
    "**Author:** Petr Čala  \n",
    "**Date:** 2025-02-26\n",
    "\n",
    "# Lesson 4 Notebook\n",
    "\n",
    "Welcome to **Lesson 4**! By now, you’ve covered:\n",
    "\n",
    "1. **Basic & Intermediate Data Cleaning** (missing values, merges, reshaping, text handling).\n",
    "2. **Introduction to SQL in R**.\n",
    "3. **Data exploration** and some elementary visuals.\n",
    "\n",
    "In this final lesson, we’ll focus on:\n",
    "\n",
    "1. **Advanced Data Visualization** using `ggplot2`.\n",
    "2. **Reproducible Workflows & Reporting** with R Markdown (or Quarto).\n",
    "3. **Project Best Practices** – how to structure a final project/thesis.\n",
    "4. **Wrap-up & Additional Resources**.\n"
   ]
  },
  {
   "cell_type": "markdown",
   "id": "00b0299a",
   "metadata": {},
   "source": [
    "---\n",
    "\n",
    "## 1. Advanced Data Visualization\n",
    "\n",
    "In previous lessons, we created basic **histograms**, **bar plots**, and **boxplots**. Now let’s explore some more powerful techniques and customizations in **`ggplot2`**.\n",
    "\n",
    "### 1.1 Adding Facets\n",
    "\n",
    "Facets split your data visualization by a certain variable, letting you see multiple small charts at once.\n"
   ]
  },
  {
   "cell_type": "code",
   "execution_count": null,
   "id": "6cb9774e",
   "metadata": {
    "vscode": {
     "languageId": "r"
    }
   },
   "outputs": [],
   "source": [
    "library(tidyverse)\n",
    "\n",
    "# Example dataset\n",
    "set.seed(123)\n",
    "cars_df <- mtcars %>%\n",
    "  mutate(\n",
    "    cyl = as.factor(cyl), # # of cylinders\n",
    "    gear = as.factor(gear) # # of gears\n",
    "  )\n",
    "\n",
    "# Basic scatter plot of mpg vs. hp (miles/gallon vs. horsepower)\n",
    "ggplot(cars_df, aes(x = hp, y = mpg, color = cyl)) +\n",
    "  geom_point(size = 3) +\n",
    "  facet_wrap(~gear) +\n",
    "  labs(\n",
    "    title = \"MPG vs. Horsepower, Faceted by # of Gears\",\n",
    "    x = \"Horsepower\",\n",
    "    y = \"Miles per Gallon\",\n",
    "    color = \"Cylinders\"\n",
    "  ) +\n",
    "  theme_minimal()\n"
   ]
  },
  {
   "cell_type": "markdown",
   "id": "291f7ae0",
   "metadata": {},
   "source": [
    "### 1.2 Custom Themes & Labels\n",
    "\n",
    "`ggplot2` comes with built-in themes like `theme_minimal()`, `theme_bw()`, etc. You can also customize fonts, colors, or even build your own theme.\n"
   ]
  },
  {
   "cell_type": "code",
   "execution_count": null,
   "id": "6bbd2ac8",
   "metadata": {
    "vscode": {
     "languageId": "r"
    }
   },
   "outputs": [],
   "source": [
    "# Customizing the theme\n",
    "ggplot(cars_df, aes(x = factor(cyl), y = mpg, fill = factor(cyl))) +\n",
    "  geom_boxplot() +\n",
    "  scale_fill_brewer(palette = \"Set2\") +\n",
    "  labs(\n",
    "    title = \"MPG Distribution by Cylinder Type\",\n",
    "    x = \"Cylinders\",\n",
    "    y = \"Miles per Gallon\",\n",
    "    fill = \"Cylinders\"\n",
    "  ) +\n",
    "  theme_classic() +\n",
    "  theme(\n",
    "    plot.title = element_text(face = \"bold\", size = 14, hjust = 0.5),\n",
    "    axis.title = element_text(face = \"bold\", size = 12)\n",
    "  )\n"
   ]
  },
  {
   "cell_type": "markdown",
   "id": "e5462ff0",
   "metadata": {},
   "source": [
    "### 1.3 Advanced Geoms\n",
    "\n",
    "Consider **geoms** beyond `geom_point()` and `geom_bar()`:\n",
    "\n",
    "- **`geom_smooth()`** for regression lines.\n",
    "- **`geom_density()`** or **`geom_violin()`** for distribution insights.\n",
    "- **`geom_text()`** / **`geom_label()`** to annotate plots.\n",
    "\n",
    "> **Exercise**: Try plotting a **smoothed** line (`geom_smooth`) over scatter points to see a trend, or a **violin plot** to compare distributions across groups.\n"
   ]
  },
  {
   "cell_type": "markdown",
   "id": "92562555",
   "metadata": {},
   "source": [
    "---\n",
    "## 2. Reproducible Workflows & Reporting\n",
    "As you head toward a final project or thesis, it’s best to keep everything **reproducible**. This means someone else (or future you) can rerun all the code and get the same results.\n",
    "\n",
    "### 2.1 Using R Markdown or Quarto\n",
    "While we’re using Jupyter Notebooks here, **R Markdown** (or the newer **Quarto**) is a powerful way to **mix code, text, and output** in one document. You can generate HTML, PDF, or Word reports directly.\n",
    "\n",
    "#### Example R Markdown Setup\n",
    "```yaml\n",
    "---\n",
    "\n",
    "title: \"My Data Analysis\"\n",
    "author: \"My Name\"\n",
    "output: html_document\n",
    "\n",
    "---\n",
    "\n",
    "````\n",
    "\n",
    "Then, in R code chunks, you can do:\n",
    "```{r}\n",
    "# Load data\n",
    "df <- read_csv(\"mydata.csv\")\n",
    "summary(df)\n",
    "````\n",
    "\n",
    "And **knit** the document to produce a nice HTML with text, code, and results.\n",
    "\n",
    "> **Tip**: Quarto (https://quarto.org) is the next-generation version of R Markdown, supporting multiple languages (R, Python, Julia) in one framework.\n"
   ]
  },
  {
   "cell_type": "markdown",
   "id": "f84af8d0",
   "metadata": {},
   "source": [
    "### 2.2 Project Structure\n",
    "\n",
    "A recommended layout:\n",
    "\n",
    "```\n",
    "my-project/\n",
    "├─ data/\n",
    "│   ├─ raw/       (store raw, unmodified data)\n",
    "│   └─ processed/ (store cleaned datasets)\n",
    "├─ code/\n",
    "│   ├─ cleaning_scripts.R\n",
    "│   ├─ analysis_scripts.R\n",
    "│   └─ figures/   (optional folder for saved plots)\n",
    "├─ output/\n",
    "│   └─ final_results.csv\n",
    "├─ my_report.Rmd  (or .qmd, .ipynb)\n",
    "└─ README.md\n",
    "```\n",
    "\n",
    "Clear organization helps you maintain **version control** and collaborate.\n"
   ]
  },
  {
   "cell_type": "markdown",
   "id": "7dad11bb",
   "metadata": {},
   "source": [
    "### 2.3 Version Control with Git (Optional)\n",
    "\n",
    "If you want to track changes:\n",
    "\n",
    "1. **Initialize** a Git repository in your project folder.\n",
    "2. Commit changes regularly (e.g., after each major step).\n",
    "3. Push to **GitHub** (or similar) if you’d like an online backup.\n",
    "\n",
    "> **Exercise**: Try creating a small Git repo for one of your class projects. Make commits after you add data or update code.\n"
   ]
  },
  {
   "cell_type": "markdown",
   "id": "16609640",
   "metadata": {},
   "source": [
    "---\n",
    "\n",
    "## 3. Project Best Practices\n",
    "\n",
    "From a **journalism** standpoint:\n",
    "\n",
    "1. **Document Data Sources**: Cite where you got the data and any transformations.\n",
    "2. **Show Your Work**: If you changed data (e.g., replaced missing values), mention how and why.\n",
    "3. **Focus on Clarity**: Visuals should be clear, well-labeled, and highlight the story.\n",
    "4. **Ethics & Privacy**: Check if the data includes personal info. Anonymize as necessary.\n",
    "\n",
    "### 3.1 Outline for a Final Report\n",
    "\n",
    "A typical structure might look like:\n",
    "\n",
    "1. **Introduction**: Problem statement or news angle.\n",
    "2. **Data & Sources**: Where data comes from, how it was collected.\n",
    "3. **Methodology**: Data cleaning steps, analysis approach, mention of tools.\n",
    "4. **Results / Findings**: Key insights, tables, and plots.\n",
    "5. **Discussion**: Limitations, significance, or potential biases.\n",
    "6. **Conclusion**: Summarize the story or main point.\n",
    "7. **Appendix (optional)**: Code listings, extended tables.\n",
    "\n",
    "> **Tip**: For maximum clarity, keep each step well documented. If you’re using R Markdown, consider building a table of contents.\n"
   ]
  },
  {
   "cell_type": "markdown",
   "id": "8fca18dc",
   "metadata": {},
   "source": [
    "---\n",
    "\n",
    "## 4. Lesson 4 Workflow Example\n",
    "\n",
    "Below is a brief demonstration combining advanced visualization with a reproducible approach. We’ll simulate a scenario:\n",
    "\n",
    "1. Import a dataset about **fuel economy** (a stand-in for a real dataset).\n",
    "2. Create advanced visualizations.\n",
    "3. Show how we might embed these in an R Markdown doc.\n"
   ]
  },
  {
   "cell_type": "code",
   "execution_count": null,
   "id": "ec0541f2",
   "metadata": {
    "vscode": {
     "languageId": "r"
    }
   },
   "outputs": [],
   "source": [
    "# Example advanced plot with some annotation\n",
    "ggplot(mpg, aes(displ, hwy, color = class)) +\n",
    "  geom_point() +\n",
    "  geom_smooth(se = FALSE) +\n",
    "  labs(\n",
    "    title = \"Engine Displacement vs. Highway MPG\",\n",
    "    subtitle = \"Data from ggplot2's built-in mpg dataset\",\n",
    "    x = \"Displacement (L)\",\n",
    "    y = \"MPG (Highway)\"\n",
    "  ) +\n",
    "  theme_minimal()\n"
   ]
  },
  {
   "cell_type": "markdown",
   "id": "acdab972",
   "metadata": {},
   "source": [
    "#### R Markdown Embedding Example\n",
    "\n",
    "In an R Markdown file, you’d write:\n",
    "\n",
    "````md\n",
    "```{r fancy-plot, echo=FALSE}\n",
    "ggplot(mpg, aes(displ, hwy, color = class)) +\n",
    "  geom_point() +\n",
    "  geom_smooth(se = FALSE) +\n",
    "  labs(title = \"Engine Displacement vs. Highway MPG\") +\n",
    "  theme_minimal()\n",
    "```\n",
    "````\n",
    "\n",
    "```\n",
    "This chunk would render the **fancy-plot** directly in your report.\n",
    "\n",
    "> **Exercise**: Take any dataset from prior lessons, put it into an R Markdown file, and produce a short 1-page “mini-report” with an advanced plot.\n",
    "```\n"
   ]
  },
  {
   "cell_type": "markdown",
   "id": "718f73a1",
   "metadata": {},
   "source": [
    "---\n",
    "\n",
    "## 5. Additional Resources\n",
    "\n",
    "- **R for Data Science** (Hadley Wickham & Garrett Grolemund): a free online book.\n",
    "- **R Markdown** documentation: <https://rmarkdown.rstudio.com>\n",
    "- **Quarto**: <https://quarto.org>\n",
    "- **The Data Visualization Catalogue**: <https://datavizcatalogue.com> for chart ideas.\n",
    "- **Plotting Extensions**:\n",
    "  - `plotly` for interactive plots.\n",
    "  - `leaflet` for maps.\n",
    "  - `highcharter` for dynamic charts.\n",
    "\n",
    "> **Tip**: If you’re telling a story, consider interactive visuals with `shiny` or `plotly`, especially if it’s for online journalism.\n"
   ]
  },
  {
   "cell_type": "markdown",
   "id": "d05c7d29",
   "metadata": {},
   "source": [
    "---\n",
    "\n",
    "## Summary & Wrap-Up\n",
    "\n",
    "In **Lesson 4**, you learned:\n",
    "\n",
    "1. **Advanced Visualization** with `ggplot2` (facets, custom themes, advanced geoms).\n",
    "2. **Reproducible Reporting** with R Markdown or Quarto.\n",
    "3. **Project Organization & Best Practices** for your final thesis or data story.\n",
    "\n",
    "**Key Takeaways**:\n",
    "\n",
    "- Keep your data workflow **clean and documented**.\n",
    "- Use **version control** where possible.\n",
    "- Spend time on **visual clarity**; a well-crafted plot can make or break a story.\n",
    "- For your final thesis or journalism project, consider **R Markdown** to combine text and code seamlessly.\n",
    "\n",
    "This completes your structured journey from basic R data handling to advanced visualization and reproducible workflows. Best of luck applying these skills to your final projects, newsroom investigations, or future data-driven stories!\n",
    "\n",
    "# End of Lesson 4\n"
   ]
  }
 ],
 "metadata": {
  "kernelspec": {
   "display_name": "R",
   "language": "R",
   "name": "ir"
  },
  "language_info": {
   "file_extension": ".r",
   "mimetype": "text/x-r-source",
   "name": "R"
  }
 },
 "nbformat": 4,
 "nbformat_minor": 5
}
