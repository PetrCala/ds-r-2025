{
 "cells": [
  {
   "cell_type": "markdown",
   "id": "dffa4c83",
   "metadata": {},
   "source": [
    "# Lesson 2: Data Reshaping, Merging & Introduction to SQL in R\n",
    "\n",
    "**Author:** Petr Čala  \n",
    "**Date:** 2025-02-26\n",
    "\n",
    "# Lesson 2 Notebook\n",
    "\n",
    "Welcome to our **second 4-hour block**! In this lesson, we’ll build on the skills from **Lesson 1**. By the end, you should be comfortable **reshaping** your data (widening/longening), **merging** multiple data sources, and running **basic SQL queries** directly in R.\n",
    "\n",
    "## Topics\n",
    "\n",
    "1. Recap & Q&A\n",
    "2. Data Reshaping (Pivoting)\n",
    "3. Data Merging (Joins)\n",
    "4. Introduction to SQL in R\n",
    "5. Wrapping Up with a Real-World Workflow Example\n"
   ]
  },
  {
   "cell_type": "markdown",
   "id": "d261cb08",
   "metadata": {},
   "source": [
    "---\n",
    "\n",
    "## 1. Recap & Q&A\n",
    "\n",
    "Let’s briefly recap **Lesson 1**:\n",
    "\n",
    "- You installed/loaded the **tidyverse** and possibly **skimr**.\n",
    "- You learned to **import data**, handle **missing values**, **rename columns**, convert **data types**, and do quick **EDA**.\n",
    "- You exported your cleaned data.\n",
    "\n",
    "If you have any open questions or troubles from Lesson 1, let’s discuss them now. Once you’re ready, move on to the next section.\n"
   ]
  },
  {
   "cell_type": "markdown",
   "id": "48a0eba7",
   "metadata": {},
   "source": [
    "---\n",
    "\n",
    "## 2. Data Reshaping (Pivoting)\n",
    "\n",
    "Sometimes your data isn’t in the format you need for analysis. You may have to **pivot** from long to wide or vice versa. Let’s explore `tidyr::pivot_longer()` and `tidyr::pivot_wider()`.\n",
    "\n",
    "### 2.1 Example Dataset\n",
    "\n",
    "We’ll simulate or use a small dataset that’s in a **wide** format, then pivot it to a **long** format. If you want to follow along with your own dataset, feel free to adapt the code.\n"
   ]
  },
  {
   "cell_type": "code",
   "execution_count": null,
   "id": "5c795f72",
   "metadata": {
    "vscode": {
     "languageId": "r"
    }
   },
   "outputs": [],
   "source": [
    "# Ensure we have the necessary packages loaded\n",
    "library(tidyverse)\n",
    "\n",
    "# Example wide dataset: Survey results from different quarters\n",
    "set.seed(123)\n",
    "survey_data <- data.frame(\n",
    "  RespondentID = 1:5,\n",
    "  Q1_Score = round(runif(5, 1, 5), 1),\n",
    "  Q2_Score = round(runif(5, 1, 5), 1),\n",
    "  Q3_Score = round(runif(5, 1, 5), 1)\n",
    ")\n",
    "\n",
    "survey_data\n"
   ]
  },
  {
   "cell_type": "markdown",
   "id": "572c221c",
   "metadata": {},
   "source": [
    "### 2.2 Pivoting from Wide to Long\n",
    "\n",
    "Suppose we want to gather these separate quarterly columns (`Q1_Score`, `Q2_Score`, `Q3_Score`) into **one** column indicating the **quarter** and another for the **score**.\n"
   ]
  },
  {
   "cell_type": "code",
   "execution_count": null,
   "id": "30c82ac6",
   "metadata": {
    "vscode": {
     "languageId": "r"
    }
   },
   "outputs": [],
   "source": [
    "# Pivot from wide to long using tidyr::pivot_longer\n",
    "survey_long <- survey_data %>%\n",
    "  pivot_longer(\n",
    "    cols = starts_with(\"Q\"), # which columns to pivot\n",
    "    names_to = \"Quarter\",\n",
    "    values_to = \"Score\"\n",
    "  )\n",
    "\n",
    "survey_long\n"
   ]
  },
  {
   "cell_type": "markdown",
   "id": "738a0c03",
   "metadata": {},
   "source": [
    "### 2.3 Pivoting from Long to Wide\n",
    "\n",
    "To pivot back (or if you have a truly long dataset and want to widen it), you can use `pivot_wider()`.\n"
   ]
  },
  {
   "cell_type": "code",
   "execution_count": null,
   "id": "a3e58113",
   "metadata": {
    "vscode": {
     "languageId": "r"
    }
   },
   "outputs": [],
   "source": [
    "# Pivot back from long to wide\n",
    "survey_wide <- survey_long %>%\n",
    "  pivot_wider(\n",
    "    names_from = Quarter,\n",
    "    values_from = Score\n",
    "  )\n",
    "\n",
    "survey_wide\n"
   ]
  },
  {
   "cell_type": "markdown",
   "id": "80389952",
   "metadata": {},
   "source": [
    "> **Exercise**:\n",
    "\n",
    "1. Create a new column in your **long** dataset that identifies which half of the year a quarter belongs to (e.g. Q1, Q2 → First Half; Q3, Q4 → Second Half).\n",
    "2. Pivot wide again, but group by your new half-year variable.\n"
   ]
  },
  {
   "cell_type": "markdown",
   "id": "8ae0228a",
   "metadata": {},
   "source": [
    "---\n",
    "\n",
    "## 3. Data Merging (Joins)\n",
    "\n",
    "In **Lesson 1**, we focused on one dataset. Now, we’ll learn how to **combine** multiple datasets using `dplyr` **joins**: `left_join()`, `right_join()`, `inner_join()`, and `full_join()`.\n"
   ]
  },
  {
   "cell_type": "code",
   "execution_count": null,
   "id": "27d287d1",
   "metadata": {
    "vscode": {
     "languageId": "r"
    }
   },
   "outputs": [],
   "source": [
    "# Let's create two small data frames that share a key column\n",
    "dfA <- data.frame(\n",
    "  ID = 1:5,\n",
    "  Name = c(\"Alice\", \"Bob\", \"Carla\", \"David\", \"Elena\"),\n",
    "  Score = c(10, 15, 8, 12, 20),\n",
    "  stringsAsFactors = FALSE\n",
    ")\n",
    "\n",
    "dfB <- data.frame(\n",
    "  ID = c(1, 2, 6),\n",
    "  Age = c(25, 34, 45)\n",
    ")\n",
    "\n",
    "# Let's see them:\n",
    "dfA\n",
    "dfB\n"
   ]
  },
  {
   "cell_type": "markdown",
   "id": "410e867c",
   "metadata": {},
   "source": [
    "### 3.1 Left Join\n",
    "\n",
    "`left_join(dfA, dfB, by = \"ID\")` will keep **all rows** from `dfA` and merge matching rows from `dfB`.\n"
   ]
  },
  {
   "cell_type": "code",
   "execution_count": null,
   "id": "aefcefdd",
   "metadata": {
    "vscode": {
     "languageId": "r"
    }
   },
   "outputs": [],
   "source": [
    "left_join_result <- left_join(dfA, dfB, by = \"ID\")\n",
    "left_join_result\n"
   ]
  },
  {
   "cell_type": "markdown",
   "id": "7e4f9e8d",
   "metadata": {},
   "source": [
    "### 3.2 Inner, Right, and Full Joins\n",
    "\n",
    "Experiment with these:\n",
    "\n",
    "- `inner_join()`: Keeps only rows with matches in **both** `dfA` and `dfB`.\n",
    "- `right_join()`: Keeps all rows from `dfB`.\n",
    "- `full_join()`: Keeps **all** rows from **both** data frames.\n"
   ]
  },
  {
   "cell_type": "code",
   "execution_count": null,
   "id": "222e4fa9",
   "metadata": {
    "vscode": {
     "languageId": "r"
    }
   },
   "outputs": [],
   "source": [
    "inner_join_result <- inner_join(dfA, dfB, by = \"ID\")\n",
    "inner_join_result\n",
    "\n",
    "right_join_result <- right_join(dfA, dfB, by = \"ID\")\n",
    "right_join_result\n",
    "\n",
    "full_join_result <- full_join(dfA, dfB, by = \"ID\")\n",
    "full_join_result\n"
   ]
  },
  {
   "cell_type": "markdown",
   "id": "9fd257a7",
   "metadata": {},
   "source": [
    "> **Exercise**:\n",
    "\n",
    "1. Suppose you have a second dataset with the columns `ID` and `Department`. Try **merging** it with `dfA` or `dfB`.\n",
    "2. Observe how missing or mismatched keys affect each type of join.\n"
   ]
  },
  {
   "cell_type": "markdown",
   "id": "929fe5a8",
   "metadata": {},
   "source": [
    "---\n",
    "\n",
    "## 4. Introduction to SQL in R\n",
    "\n",
    "For data stored in **databases**, or if you’re familiar with **SQL** (Structured Query Language), R allows you to run queries using packages like **`sqldf`** or **`DBI`** + **`RSQLite`**.\n",
    "\n",
    "### 4.1 Using `sqldf`\n",
    "\n",
    "The `sqldf` package lets you write SQL queries on R data frames **as if** they were tables.\n"
   ]
  },
  {
   "cell_type": "code",
   "execution_count": null,
   "id": "c9651cbe",
   "metadata": {
    "vscode": {
     "languageId": "r"
    }
   },
   "outputs": [],
   "source": [
    "# If needed: install.packages(\"sqldf\")\n",
    "library(sqldf)\n",
    "\n",
    "# Example: We'll use dfA for a basic SQL query\n",
    "sqldf_result <- sqldf(\"SELECT Name, Score FROM dfA WHERE Score > 10\")\n",
    "sqldf_result\n"
   ]
  },
  {
   "cell_type": "markdown",
   "id": "be030480",
   "metadata": {},
   "source": [
    "With `sqldf`, you can perform **joins** as well, or do `GROUP BY`, `ORDER BY`, etc.\n",
    "\n",
    "### 4.2 Using `DBI` + `RSQLite`\n",
    "\n",
    "For more sophisticated or persistent usage, you might use **`DBI`** with **`RSQLite`** to create an **in-memory** or **file-based** SQL database.\n"
   ]
  },
  {
   "cell_type": "code",
   "execution_count": null,
   "id": "8e081fe4",
   "metadata": {
    "vscode": {
     "languageId": "r"
    }
   },
   "outputs": [],
   "source": [
    "# If needed:\n",
    "# install.packages(\"DBI\")\n",
    "# install.packages(\"RSQLite\")\n",
    "\n",
    "library(DBI)\n",
    "library(RSQLite)\n",
    "\n",
    "# Create an in-memory SQLite database\n",
    "con <- dbConnect(RSQLite::SQLite(), \":memory:\")\n",
    "\n",
    "# Copy dfA into the database\n",
    "dbWriteTable(con, \"dfA_table\", dfA)\n",
    "\n",
    "# Let's run a query\n",
    "res <- dbGetQuery(con, \"SELECT * FROM dfA_table WHERE Score >= 10\")\n",
    "res\n"
   ]
  },
  {
   "cell_type": "markdown",
   "id": "0275a0cf",
   "metadata": {},
   "source": [
    "Once you’re done, you can **disconnect**:\n",
    "\n",
    "```r\n",
    "dbDisconnect(con)\n",
    "```\n",
    "\n",
    "> **Exercise**:\n",
    "\n",
    "1. Insert one more data frame (`dfB`) into your SQLite database and perform a **JOIN**.\n",
    "2. Practice with `GROUP BY` (e.g., grouping by certain columns).\n"
   ]
  },
  {
   "cell_type": "markdown",
   "id": "c6cae060",
   "metadata": {},
   "source": [
    "---\n",
    "\n",
    "## 5. Wrapping Up with a Real-World Workflow\n",
    "\n",
    "To see how these pieces fit together, here’s a simple end-to-end flow:\n",
    "\n",
    "1. **Import** a dataset (`read_csv`).\n",
    "2. **Reshape** if needed (e.g., pivot).\n",
    "3. **Merge** with another dataset using a join.\n",
    "4. **Explore** or filter data with SQL or `dplyr`.\n",
    "5. **Summarize** and **visualize** results.\n",
    "6. **Export** final or intermediate datasets.\n",
    "\n",
    "### Example Pseudocode\n",
    "\n",
    "```r\n",
    "# 1. Import\n",
    "df_main <- read_csv(\"my_data.csv\")\n",
    "df_ref  <- read_csv(\"lookup_table.csv\")\n",
    "\n",
    "# 2. Reshape (optional)\n",
    "df_long <- df_main %>% pivot_longer(cols = ...) # depends on your data\n",
    "\n",
    "# 3. Merge (join)\n",
    "df_merged <- left_join(df_long, df_ref, by = \"some_key\")\n",
    "\n",
    "# 4. Explore\n",
    "df_filtered <- sqldf(\"SELECT * FROM df_merged WHERE columnX = 'some condition'\")\n",
    "\n",
    "# 5. Summarize & visualize\n",
    "df_filtered %>% group_by(Category) %>% summarise(MeanVal = mean(Value, na.rm=TRUE))\n",
    "ggplot(...) + geom_...\n",
    "\n",
    "# 6. Export\n",
    "write_csv(df_filtered, \"final_output.csv\")\n",
    "```\n",
    "\n",
    "Whether you use **dplyr** or **SQL** (or both) depends on your preference and the complexity of the data.\n"
   ]
  },
  {
   "cell_type": "markdown",
   "id": "50ed2122",
   "metadata": {},
   "source": [
    "### Takeaways\n",
    "\n",
    "- **Pivoting** is crucial when your data layout isn’t suitable for analysis.\n",
    "- **Joins** let you combine separate data sources.\n",
    "- **SQL** can be a powerful alternative or complement to R’s native data manipulation tools.\n",
    "\n",
    "In future work (or your thesis), you might have large or relational data. That’s where understanding both **R** manipulation tools and **SQL** is extremely helpful.\n"
   ]
  },
  {
   "cell_type": "markdown",
   "id": "30cb9721",
   "metadata": {},
   "source": [
    "---\n",
    "\n",
    "## Summary & Next Steps\n",
    "\n",
    "In **Lesson 2**, you’ve learned:\n",
    "\n",
    "1. How to **pivot** data between wide and long formats.\n",
    "2. How to **merge** data frames via **dplyr** joins.\n",
    "3. Basic **SQL** usage in R with both `sqldf` and `DBI` + `RSQLite`.\n",
    "\n",
    "### What to Practice\n",
    "\n",
    "- Use real datasets to practice pivoting. (e.g., time series data, repeated measures)\n",
    "- Combine **two or more** datasets to see how joins work.\n",
    "- Try writing **SQL queries** for simple operations (`SELECT`, `WHERE`, `JOIN`).\n",
    "\n",
    "### Looking Ahead\n",
    "\n",
    "- You can now handle more advanced data workflows.\n",
    "- In your final thesis project, consider whether your data might benefit from **SQL** or **R** joins, or if pivoting is needed.\n",
    "- Don’t forget all the **cleaning** and **EDA** techniques from Lesson 1!\n",
    "\n",
    "Have fun exploring and feel free to ask questions or bring your own datasets to experiment with.\n",
    "\n",
    "# End of Lesson 2\n"
   ]
  }
 ],
 "metadata": {
  "kernelspec": {
   "display_name": "R",
   "language": "R",
   "name": "ir"
  },
  "language_info": {
   "file_extension": ".r",
   "mimetype": "text/x-r-source",
   "name": "R"
  }
 },
 "nbformat": 4,
 "nbformat_minor": 5
}
