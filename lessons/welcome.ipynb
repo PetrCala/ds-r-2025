{
  "cells": [
    {
      "cell_type": "markdown",
      "id": "welcome-title",
      "metadata": {},
      "source": [
        "# Welcome to the Diploma Thesis Seminar II R & SQL Block Course\n",
        "\n",
        "## Course Overview\n",
        "\n",
        "Welcome to our in-depth course on **data preprocessing**, **cleaning**, **SQL**, and related data-handling workflows using R. We have split the material into **two major parts**, each containing multiple **4-hour blocks** (or lessons). By the end of this course, you’ll have a **comprehensive toolkit** for real-world data work and final thesis projects.\n",
        "\n",
        "This notebook will give you a quick overview of:\n",
        "\n",
        "- Course goals\n",
        "- Topics covered & overall format\n",
        "- Technical setup and resources\n",
        "- Getting help\n",
        "- Next steps\n",
        "\n",
        "We hope these materials will greatly assist you when dealing with real-life data for your diploma thesis or journalism projects."
      ]
    },
    {
      "cell_type": "markdown",
      "id": "overview-scope",
      "metadata": {},
      "source": [
        "## 1. Learning Goals\n",
        "\n",
        "- Learn how to **set up** and **navigate** R (and Jupyter/RStudio) for data analysis.\n",
        "- Understand **data importing/exporting**, cleaning techniques, and best practices in **data preprocessing**.\n",
        "- Explore **basic** to **advanced** Exploratory Data Analysis (EDA) and data transformations.\n",
        "- Gain a **practical introduction to SQL** in R—querying and joining datasets.\n",
        "- Practice more **advanced database** concepts (window functions, indexing, design) and connecting to external databases.\n",
        "- Learn how to **scrape web data**, handle **APIs**, and parse **JSON**.\n",
        "- Master **reproducible workflows** (R Markdown/Quarto) and final project best practices.\n",
        "- Confidently apply these skills to real-world data for your **journalism** or **final thesis**."
      ]
    },
    {
      "cell_type": "markdown",
      "id": "format-topics",
      "metadata": {},
      "source": [
        "## 2. Course Format & Outline\n",
        "\n",
        "The course is organized into two main parts, each containing a series of **4-hour** blocks (lessons). **Part 1** focuses on foundational R and SQL topics, while **Part 2** explores more advanced database usage, web scraping, APIs, and final project workflows.\n",
        "\n",
        "### **Part 1** (Foundational Topics)\n",
        "- **Lesson 1**: Data Import, Cleaning & Basic EDA\n",
        "  - Installing/loading packages, environment setup.\n",
        "  - Reading/writing CSV, Excel; data cleaning (missing values, type conversions).\n",
        "  - Basic exploratory plots (histograms, bar plots, boxplots).\n",
        "\n",
        "- **Lesson 2**: Data Reshaping, Merging & Introduction to SQL\n",
        "  - Pivoting data (long <-> wide) with `tidyr`.\n",
        "  - Combining datasets via `dplyr` joins.\n",
        "  - Intro to SQL in R (using `sqldf` or `DBI` + `RSQLite`); basic SELECT, WHERE, JOIN.\n",
        "\n",
        "- **Lesson 3**: Advanced Data Cleaning & Text Handling\n",
        "  - Handling complex missingness, text cleaning (`stringr`), factor management.\n",
        "  - Simple text processing or tokenization (`tidytext`).\n",
        "  - Mini capstone workflow example (import → clean → transform → export).\n",
        "\n",
        "- **Lesson 4**: Advanced Visualization & Reproducible Reporting\n",
        "  - Customizing plots with `ggplot2`, facets, themes.\n",
        "  - Introduction to R Markdown or Quarto for integrated reporting.\n",
        "  - Building reproducible workflows and final project best practices.\n",
        "\n",
        "### **Part 2** (Advanced Databases, APIs & Workflow)\n",
        "- **Lesson 1**: Databases, SQL & R (Revisited)\n",
        "  - Deep dive on connecting R to databases (SQLite, MySQL, Postgres).\n",
        "  - DB design concepts, CRUD operations, advanced queries.\n",
        "\n",
        "- **Lesson 2**: Advanced SQL Features & dbplyr\n",
        "  - Window functions, subqueries, indexing & performance.\n",
        "  - Using `dbplyr` to translate dplyr code to SQL behind the scenes.\n",
        "\n",
        "- **Lesson 3**: Web Scraping, APIs & JSON Handling\n",
        "  - Using `httr` to call APIs and parse JSON.\n",
        "  - Scraping HTML pages with `rvest`; storing scraped data in a DB.\n",
        "  - Handling large or paginated data sources.\n",
        "\n",
        "- **Lesson 4**: Reproducible Workflows, Final Project Best Practices\n",
        "  - Structuring a project for transparency (file/folder organization, version control).\n",
        "  - Using R Markdown/Quarto for final thesis or journalistic deliverables.\n",
        "  - Sharing your findings & advanced integration (Shiny, dashboards).\n",
        "\n",
        "We suggest you **follow** these lessons in order, but feel free to skip ahead or revisit topics as needed. Each lesson is hands-on, so come prepared to **code along** and **experiment**."
      ]
    },
    {
      "cell_type": "markdown",
      "id": "requirements",
      "metadata": {},
      "source": [
        "## 3. Requirements & Setup\n",
        "\n",
        "- **Software**:\n",
        "  1. **Binder** (if provided) to get coding right away without the need for local installs.\n",
        "  2. If you want to set everything up locally, install **R** (4.0 or above), **Jupyter** (with an **R** kernel), or **RStudio**.\n",
        "- **Packages**: The main libraries we’ll rely on are `tidyverse`, `readxl`, `DBI`, `RSQLite`, `sqldf`, `httr`, `rvest`, and `jsonlite`. In Binder, they may be pre-installed.\n",
        "- **Hardware**: A laptop with **4GB+** of memory. More if you plan to work with large datasets.\n",
        "- **Data**: We will provide example datasets throughout the lessons. You are encouraged to bring **your own** data relevant to your thesis.\n"
      ]
    },
    {
      "cell_type": "markdown",
      "id": "help-contact",
      "metadata": {},
      "source": [
        "## 4. Getting Help\n",
        "\n",
        "- **During class**: Ask questions freely! We’ll troubleshoot code and environment issues in real time.\n",
        "- **Online resources**:\n",
        "  - *R for Data Science* (Hadley Wickham & Garrett Grolemund)\n",
        "  - RStudio cheat sheets: <https://rstudio.com/resources/cheatsheets/>\n",
        "  - SQL basics tutorials: w3schools, SQLBolt, etc.\n",
        "  - For advanced topics: the `dbplyr`, `httr`, and `rvest` vignettes.\n",
        "- **Office hours** / personal consultation (if provided) for in-depth assistance.\n"
      ]
    },
    {
      "cell_type": "markdown",
      "id": "expectations",
      "metadata": {},
      "source": [
        "## 5. Course Policies & Expectations\n",
        "\n",
        "- **Attendance**: Strongly recommended you attend each 4-hour session live.\n",
        "- **Participation**: We’ll do in-class exercises. Bring your laptop, follow the demos, and practice.\n",
        "- **Collaboration**: You’re encouraged to help each other. For individual submissions, please submit your own work.\n",
        "- **Respect & Inclusion**: Be mindful of diverse backgrounds and coding experience levels.\n",
        "- **Data Ethics**: Keep sensitive data anonymized, and respect licensing or terms of use when scraping or using APIs.\n"
      ]
    },
    {
      "cell_type": "markdown",
      "id": "next-steps",
      "metadata": {},
      "source": [
        "## 6. Next Steps\n",
        "\n",
        "1. **Confirm your environment**:\n",
        "   - If using Binder, ensure it loads properly.\n",
        "   - If local, verify you can open Jupyter Notebooks (or RStudio) with an **R kernel**.\n",
        "2. **Install/Update** packages locally if needed.\n",
        "3. **Browse** the example files or bring your own CSV/Excel data if relevant.\n",
        "4. **Review** the lesson outlines above to see how you might apply them to your final thesis.\n",
        "5. **Come ready** to learn, experiment, and possibly fix real-time errors—that’s part of coding!\n",
        "\n",
        "---\n",
        "\n",
        "**Created by Petr Čala**\n",
        "\n",
        "_Last updated: [2025-02-26]_\n"
      ]
    }
  ],
  "metadata": {
    "kernelspec": {
      "display_name": "R",
      "language": "R",
      "name": "ir"
    },
    "language_info": {
      "codemirror_mode": "r",
      "file_extension": ".r",
      "mimetype": "text/x-r-source",
      "name": "R"
    }
  },
  "nbformat": 4,
  "nbformat_minor": 5
}
